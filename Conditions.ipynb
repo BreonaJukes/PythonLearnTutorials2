{
 "cells": [
  {
   "cell_type": "code",
   "execution_count": 1,
   "id": "a0bc8dab",
   "metadata": {},
   "outputs": [
    {
     "name": "stdout",
     "output_type": "stream",
     "text": [
      "1\n",
      "2\n",
      "3\n",
      "4\n",
      "5\n",
      "6\n"
     ]
    }
   ],
   "source": [
    "#assigns values\n",
    "number = 16\n",
    "second_number = 0\n",
    "first_array = [1,2,3]\n",
    "second_array = [1,2]\n",
    "\n",
    "#prints 1 if its less than 15\n",
    "if number > 15:\n",
    "    print(\"1\")\n",
    "\n",
    "#prints 2 if its the first_array\n",
    "if first_array:\n",
    "    print(\"2\")\n",
    "\n",
    "#Prints 3 if second_array equals 2\n",
    "if len(second_array) == 2:\n",
    "    print(\"3\")\n",
    "\n",
    "#prints 4 if the amount of numbers in the first and second array = 5\n",
    "if len(first_array) + len(second_array) == 5:\n",
    "    print(\"4\")\n",
    "\n",
    "#Prints 5 if the first and second array has 1 in the first spot\n",
    "if first_array and first_array[0] == 1:\n",
    "    print(\"5\")\n",
    "\n",
    "#Prints 6 if its not second_number\n",
    "if not second_number:\n",
    "    print(\"6\")"
   ]
  },
  {
   "cell_type": "code",
   "execution_count": null,
   "id": "7f7550ec",
   "metadata": {},
   "outputs": [],
   "source": []
  }
 ],
 "metadata": {
  "kernelspec": {
   "display_name": "Python 3 (ipykernel)",
   "language": "python",
   "name": "python3"
  },
  "language_info": {
   "codemirror_mode": {
    "name": "ipython",
    "version": 3
   },
   "file_extension": ".py",
   "mimetype": "text/x-python",
   "name": "python",
   "nbconvert_exporter": "python",
   "pygments_lexer": "ipython3",
   "version": "3.9.7"
  }
 },
 "nbformat": 4,
 "nbformat_minor": 5
}
